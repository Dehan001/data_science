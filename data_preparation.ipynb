{
  "nbformat": 4,
  "nbformat_minor": 0,
  "metadata": {
    "colab": {
      "provenance": [],
      "include_colab_link": true
    },
    "kernelspec": {
      "name": "python3",
      "display_name": "Python 3"
    },
    "language_info": {
      "name": "python"
    }
  },
  "cells": [
    {
      "cell_type": "markdown",
      "metadata": {
        "id": "view-in-github",
        "colab_type": "text"
      },
      "source": [
        "<a href=\"https://colab.research.google.com/github/Dehan001/data_science/blob/main/data_preparation.ipynb\" target=\"_parent\"><img src=\"https://colab.research.google.com/assets/colab-badge.svg\" alt=\"Open In Colab\"/></a>"
      ]
    },
    {
      "cell_type": "markdown",
      "source": [
        "## Pet Breed Recognizer\n",
        "\n",
        "I am working with different types of pets, focusing on six of the most common pets, including dogs, cats, rabbits, hamsters, and fish. The goal of this project is to classify 30 different types of pets common around the world. The types are as follows:\n",
        "\n",
        "### Dogs:\n",
        "1. Labrador Retriever\n",
        "2. German Shepherd\n",
        "3. Bulldog\n",
        "4. Poodle\n",
        "5. Golden Retriever\n",
        "\n",
        "### Cats:\n",
        "6. Persian Cat\n",
        "7. Siamese Cat\n",
        "8. Maine Coon\n",
        "9. Bengal Cat\n",
        "10. Sphynx Cat\n",
        "\n",
        "### Rabbits:\n",
        "11. Holland Lop\n",
        "12. Mini Rex\n",
        "13. Netherland Dwarf\n",
        "14. Lionhead Rabbit\n",
        "15. Flemish Giant\n",
        "\n",
        "### Hamsters:\n",
        "16. Syrian Hamster\n",
        "17. Campbell's Dwarf Hamster\n",
        "18. Roborovski Hamster\n",
        "19. Winter White Dwarf Hamster\n",
        "20. Chinese Hamster\n",
        "\n",
        "### Fish:\n",
        "21. Betta Fish\n",
        "22. Goldfish\n",
        "23. Guppy\n",
        "24. Angelfish\n",
        "25. Neon Tetra\n",
        "\n",
        "### Birds:\n",
        "26. Parakeet (Budgie)\n",
        "27. Cockatiel\n",
        "28. African Grey Parrot\n",
        "29. Lovebird\n",
        "30. Canary\n"
      ],
      "metadata": {
        "id": "xM2IfX2U6sIV"
      }
    },
    {
      "cell_type": "markdown",
      "source": [
        "\n",
        "# Setting Up Necessary Things"
      ],
      "metadata": {
        "id": "HB6V7_na-KXm"
      }
    },
    {
      "cell_type": "code",
      "source": [
        "%reload_ext autoreload\n",
        "%autoreload 2\n",
        "%matplotlib inline\n",
        "batch_size = 8"
      ],
      "metadata": {
        "id": "Ds4C03vEPRdJ"
      },
      "execution_count": 1,
      "outputs": []
    },
    {
      "cell_type": "code",
      "source": [
        "!pip install -Uqq fastai fastbook nbdev"
      ],
      "metadata": {
        "id": "G-ajFxlYPZkF",
        "colab": {
          "base_uri": "https://localhost:8080/"
        },
        "outputId": "b8c41682-d691-4e1d-c117-13d0d9a2fd78"
      },
      "execution_count": 2,
      "outputs": [
        {
          "output_type": "stream",
          "name": "stdout",
          "text": [
            "\u001b[2K     \u001b[90m━━━━━━━━━━━━━━━━━━━━━━━━━━━━━━━━━━━━━━━━\u001b[0m \u001b[32m41.9/41.9 kB\u001b[0m \u001b[31m2.0 MB/s\u001b[0m eta \u001b[36m0:00:00\u001b[0m\n",
            "\u001b[2K   \u001b[90m━━━━━━━━━━━━━━━━━━━━━━━━━━━━━━━━━━━━━━━━\u001b[0m \u001b[32m719.8/719.8 kB\u001b[0m \u001b[31m11.6 MB/s\u001b[0m eta \u001b[36m0:00:00\u001b[0m\n",
            "\u001b[2K   \u001b[90m━━━━━━━━━━━━━━━━━━━━━━━━━━━━━━━━━━━━━━━━\u001b[0m \u001b[32m67.4/67.4 kB\u001b[0m \u001b[31m3.4 MB/s\u001b[0m eta \u001b[36m0:00:00\u001b[0m\n",
            "\u001b[2K   \u001b[90m━━━━━━━━━━━━━━━━━━━━━━━━━━━━━━━━━━━━━━━━\u001b[0m \u001b[32m62.4/62.4 kB\u001b[0m \u001b[31m2.6 MB/s\u001b[0m eta \u001b[36m0:00:00\u001b[0m\n",
            "\u001b[2K   \u001b[90m━━━━━━━━━━━━━━━━━━━━━━━━━━━━━━━━━━━━━━━━\u001b[0m \u001b[32m471.6/471.6 kB\u001b[0m \u001b[31m23.5 MB/s\u001b[0m eta \u001b[36m0:00:00\u001b[0m\n",
            "\u001b[2K   \u001b[90m━━━━━━━━━━━━━━━━━━━━━━━━━━━━━━━━━━━━━━━━\u001b[0m \u001b[32m79.3/79.3 kB\u001b[0m \u001b[31m5.2 MB/s\u001b[0m eta \u001b[36m0:00:00\u001b[0m\n",
            "\u001b[2K   \u001b[90m━━━━━━━━━━━━━━━━━━━━━━━━━━━━━━━━━━━━━━━━\u001b[0m \u001b[32m116.3/116.3 kB\u001b[0m \u001b[31m6.6 MB/s\u001b[0m eta \u001b[36m0:00:00\u001b[0m\n",
            "\u001b[2K   \u001b[90m━━━━━━━━━━━━━━━━━━━━━━━━━━━━━━━━━━━━━━━━\u001b[0m \u001b[32m134.8/134.8 kB\u001b[0m \u001b[31m7.2 MB/s\u001b[0m eta \u001b[36m0:00:00\u001b[0m\n",
            "\u001b[2K   \u001b[90m━━━━━━━━━━━━━━━━━━━━━━━━━━━━━━━━━━━━━━━━\u001b[0m \u001b[32m194.1/194.1 kB\u001b[0m \u001b[31m11.1 MB/s\u001b[0m eta \u001b[36m0:00:00\u001b[0m\n",
            "\u001b[?25h"
          ]
        }
      ]
    },
    {
      "cell_type": "code",
      "source": [
        "from fastai import *\n",
        "from fastbook import *\n",
        "from fastai.vision.all import *"
      ],
      "metadata": {
        "id": "svwgfYzbPiYo"
      },
      "execution_count": 3,
      "outputs": []
    },
    {
      "cell_type": "code",
      "source": [
        "from google.colab import drive\n",
        "drive.mount('/content/drive')"
      ],
      "metadata": {
        "colab": {
          "base_uri": "https://localhost:8080/"
        },
        "id": "IjkJETFLPqiC",
        "outputId": "3e0975b1-0779-46a7-a592-c580d348ec2e"
      },
      "execution_count": 4,
      "outputs": [
        {
          "output_type": "stream",
          "name": "stdout",
          "text": [
            "Mounted at /content/drive\n"
          ]
        }
      ]
    },
    {
      "cell_type": "code",
      "source": [
        "%cd /content/drive/MyDrive/Pet Breed Recognizer"
      ],
      "metadata": {
        "colab": {
          "base_uri": "https://localhost:8080/"
        },
        "id": "2rO5edEO-jmK",
        "outputId": "5c246af5-d8c7-4a04-9a7b-12725cb76f8a"
      },
      "execution_count": 5,
      "outputs": [
        {
          "output_type": "stream",
          "name": "stdout",
          "text": [
            "/content/drive/MyDrive/Pet Breed Recognizer\n"
          ]
        }
      ]
    },
    {
      "cell_type": "markdown",
      "source": [
        "# Download Images from Browser"
      ],
      "metadata": {
        "id": "s61r3KNB-7_k"
      }
    },
    {
      "cell_type": "code",
      "source": [
        "doc(search_images_ddg)"
      ],
      "metadata": {
        "colab": {
          "base_uri": "https://localhost:8080/",
          "height": 131
        },
        "id": "tawmhQeuP-Me",
        "outputId": "d8bdfa33-6e02-4fda-9f15-256602daf397"
      },
      "execution_count": 6,
      "outputs": [
        {
          "output_type": "display_data",
          "data": {
            "text/plain": [
              "<IPython.core.display.HTML object>"
            ],
            "text/html": [
              "<hr/>\n",
              "<h3>search_images_ddg</h3>\n",
              "<blockquote><pre><code>search_images_ddg(term, max_images=200)</code></pre></blockquote><p><i>Search for `term` with DuckDuckGo and return a unique urls of about `max_images` images</i></p>"
            ]
          },
          "metadata": {}
        }
      ]
    },
    {
      "cell_type": "code",
      "source": [
        "pet_breeds = [\n",
        "    \"labrador retriever dog\",\n",
        "    \"german shepherd dog\",\n",
        "    \"bulldog dog\",\n",
        "    \"poodle dog\",\n",
        "    \"golden retriever dog\",\n",
        "    \"persian cat\",\n",
        "    \"siamese cat\",\n",
        "    \"maine coon cat\",\n",
        "    \"bengal cat\",\n",
        "    \"sphynx cat\",\n",
        "    \"holland lop rabbit\",\n",
        "    \"mini rex rabbit\",\n",
        "    \"netherland dwarf rabbit\",\n",
        "    \"lionhead rabbit\",\n",
        "    \"flemish giant rabbit\",\n",
        "    \"syrian hamster\",\n",
        "    \"campbell's dwarf hamster\",\n",
        "    \"roborovski hamster\",\n",
        "    \"winter white dwarf hamster\",\n",
        "    \"chinese hamster\",\n",
        "    \"betta fish\",\n",
        "    \"goldfish\",\n",
        "    \"guppy fish\",\n",
        "    \"angelfish\",\n",
        "    \"neon tetra fish\",\n",
        "    \"parakeet bird\",\n",
        "    \"cockatiel bird\",\n",
        "    \"african grey parrot bird\",\n",
        "    \"lovebird\",\n",
        "    \"canary bird\"\n",
        "]\n",
        "\n",
        "\n",
        "len(pet_breeds)"
      ],
      "metadata": {
        "colab": {
          "base_uri": "https://localhost:8080/"
        },
        "id": "gDTq7Kw9JXt7",
        "outputId": "5aaf63f1-b66c-46af-d038-5b6f8613b80b"
      },
      "execution_count": 7,
      "outputs": [
        {
          "output_type": "execute_result",
          "data": {
            "text/plain": [
              "30"
            ]
          },
          "metadata": {},
          "execution_count": 7
        }
      ]
    },
    {
      "cell_type": "code",
      "source": [
        "images = search_images_ddg(pet_breeds[0])\n",
        "f\"No of Images => {len(images)} -- One Image URL => {images[0]}\""
      ],
      "metadata": {
        "colab": {
          "base_uri": "https://localhost:8080/",
          "height": 35
        },
        "id": "Dp48KbweI8d-",
        "outputId": "5d96b64e-5452-49c9-9ea9-c8db6e3a3494"
      },
      "execution_count": 8,
      "outputs": [
        {
          "output_type": "execute_result",
          "data": {
            "text/plain": [
              "'No of Images => 200 -- One Image URL => https://4.bp.blogspot.com/-zzX53cZXdVI/UHeR4WrzM1I/AAAAAAAAAvA/XA32_UtnWcY/s1600/White-Labrador-Retriever-Puppy.jpg'"
            ],
            "application/vnd.google.colaboratory.intrinsic+json": {
              "type": "string"
            }
          },
          "metadata": {},
          "execution_count": 8
        }
      ]
    },
    {
      "cell_type": "code",
      "source": [
        "doc(download_url)"
      ],
      "metadata": {
        "colab": {
          "base_uri": "https://localhost:8080/",
          "height": 131
        },
        "id": "CHQjoWzikdIB",
        "outputId": "f61e8fe7-b84f-474a-82dc-0b99a545045a"
      },
      "execution_count": 9,
      "outputs": [
        {
          "output_type": "display_data",
          "data": {
            "text/plain": [
              "<IPython.core.display.HTML object>"
            ],
            "text/html": [
              "<hr/>\n",
              "<h3>download_url</h3>\n",
              "<blockquote><pre><code>download_url(url, dest=None, timeout=None, show_progress=True)</code></pre></blockquote><p><i>Download `url` to `dest` and show progress</i></p>"
            ]
          },
          "metadata": {}
        }
      ]
    },
    {
      "cell_type": "code",
      "source": [
        "dest = \"german shepherd dog.jpg\"\n",
        "download_url(images[0], dest, show_progress=False)"
      ],
      "metadata": {
        "colab": {
          "base_uri": "https://localhost:8080/"
        },
        "id": "yrXHj3ZUKGNw",
        "outputId": "822d4598-36b7-4ed5-d9b8-5f33eb853228"
      },
      "execution_count": 10,
      "outputs": [
        {
          "output_type": "execute_result",
          "data": {
            "text/plain": [
              "Path('german shepherd dog.jpg')"
            ]
          },
          "metadata": {},
          "execution_count": 10
        }
      ]
    },
    {
      "cell_type": "code",
      "source": [
        "image = Image.open(dest)\n",
        "image.to_thumb(128, 128)"
      ],
      "metadata": {
        "colab": {
          "base_uri": "https://localhost:8080/",
          "height": 145
        },
        "id": "IaYJtJvuKfNl",
        "outputId": "99e8fb8c-02cd-42e1-c959-fab4559c1d8e"
      },
      "execution_count": 11,
      "outputs": [
        {
          "output_type": "execute_result",
          "data": {
            "text/plain": [
              "<PIL.Image.Image image mode=RGB size=124x128>"
            ],
            "image/png": "[encoded data removed]",
            "image/jpeg": "[encoded data removed]"
          },
          "metadata": {},
          "execution_count": 11
        }
      ]
    },
    {
      "cell_type": "markdown",
      "source": [
        "## Combine all of them"
      ],
      "metadata": {
        "id": "qikuAgT_MBGU"
      }
    },
    {
      "cell_type": "code",
      "source": [
        "data_path = \"data\"\n",
        "if not os.path.exists(data_path):\n",
        "  os.mkdir(data_path)\n",
        "\n",
        "for pet_breed in pet_breeds:\n",
        "\n",
        "  dest = f\"{data_path}/{pet_breed}\"\n",
        "  if not os.path.exists(dest):\n",
        "    os.mkdir(dest)\n",
        "\n",
        "  try:\n",
        "    cap_image_urls = search_images_ddg(pet_breed)\n",
        "    download_images(dest, urls = cap_image_urls)\n",
        "\n",
        "  except:\n",
        "    continue"
      ],
      "metadata": {
        "id": "HlRS-niOMHQY"
      },
      "execution_count": 12,
      "outputs": []
    },
    {
      "cell_type": "code",
      "source": [
        "image_counts = get_image_files(data_path)\n",
        "image_counts"
      ],
      "metadata": {
        "colab": {
          "base_uri": "https://localhost:8080/"
        },
        "id": "fEyLNTuCNwld",
        "outputId": "945293b3-b10f-4e6d-c69f-8f3151e083ac"
      },
      "execution_count": 13,
      "outputs": [
        {
          "output_type": "execute_result",
          "data": {
            "text/plain": [
              "(#5578) [Path('data/labrador retriever dog/1456c09f-fec1-42f7-b46f-c822fcc753ca.jpg'),Path('data/labrador retriever dog/74554c25-0702-42a8-a255-7751ceef38a0.jpg'),Path('data/labrador retriever dog/7016bbec-6dc6-4ec4-93a6-ea1a82b96987.jpg'),Path('data/labrador retriever dog/e883d0ef-1d10-4e7a-928a-664fd2b0e856.jpg'),Path('data/labrador retriever dog/57e5780a-982f-4b92-8c52-d2a8df076453.jpg'),Path('data/labrador retriever dog/5bff3a07-ccdb-4e56-b6f9-f875e079f0ff.jpg'),Path('data/labrador retriever dog/060e0368-d587-4016-82d3-6f861e17798a.jpg'),Path('data/labrador retriever dog/af613459-8b53-4672-b5f0-83c0a2272d2e.png'),Path('data/labrador retriever dog/3c3a4cea-0b97-4905-a2f1-bdc4e8c463a6.jpg'),Path('data/labrador retriever dog/d0dcf427-e808-4b8a-9423-bc2fe902765b.jpg')...]"
            ]
          },
          "metadata": {},
          "execution_count": 13
        }
      ]
    },
    {
      "cell_type": "code",
      "source": [
        "failed = verify_images(image_counts)\n",
        "failed"
      ],
      "metadata": {
        "colab": {
          "base_uri": "https://localhost:8080/"
        },
        "id": "IH9uM3i2OuH-",
        "outputId": "dd5f285e-f18d-4da1-f728-8087f0a6be40"
      },
      "execution_count": 14,
      "outputs": [
        {
          "output_type": "execute_result",
          "data": {
            "text/plain": [
              "(#141) [Path('data/labrador retriever dog/b9346a1e-f90b-409e-ab17-218397ab280d.jpg'),Path('data/labrador retriever dog/2d0b8750-cd83-44af-a116-9fb5c7ad0e32.jpg'),Path('data/german shepherd dog/3a408f1e-f9e6-492b-bfb6-69f3de9deda2.jpg'),Path('data/german shepherd dog/a1c7b658-0492-4e0b-987c-f09ca27a4f86.jpg'),Path('data/german shepherd dog/d18b26af-a337-4e8b-b1c5-698a171bb4b3.jpg'),Path('data/german shepherd dog/51a4f1ed-3dc4-4a1a-8615-6afce07f2375.jpg'),Path('data/german shepherd dog/1c0cb824-8df2-4ca7-a229-e7a046e2a849.jpg'),Path('data/german shepherd dog/a98aa824-f223-4c49-aa42-cd69e74649d0.jpeg'),Path('data/german shepherd dog/43c3f4ba-042c-4242-82d6-e1cd90f8558d.jpg'),Path('data/german shepherd dog/94ec4455-fde8-4f79-92a5-eefabaa05298.jpg')...]"
            ]
          },
          "metadata": {},
          "execution_count": 14
        }
      ]
    },
    {
      "cell_type": "code",
      "source": [
        "failed.map(Path.unlink)"
      ],
      "metadata": {
        "colab": {
          "base_uri": "https://localhost:8080/"
        },
        "id": "Kac8V0lyP0uN",
        "outputId": "67bb4575-6974-431f-ac86-9af53878533a"
      },
      "execution_count": 15,
      "outputs": [
        {
          "output_type": "execute_result",
          "data": {
            "text/plain": [
              "(#141) [None,None,None,None,None,None,None,None,None,None...]"
            ]
          },
          "metadata": {},
          "execution_count": 15
        }
      ]
    },
    {
      "cell_type": "code",
      "source": [],
      "metadata": {
        "id": "xsoX84WVyy1B"
      },
      "execution_count": 15,
      "outputs": []
    }
  ]
}