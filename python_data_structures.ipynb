{
  "nbformat": 4,
  "nbformat_minor": 0,
  "metadata": {
    "colab": {
      "provenance": [],
      "include_colab_link": true
    },
    "kernelspec": {
      "name": "python3",
      "display_name": "Python 3"
    },
    "language_info": {
      "name": "python"
    },
    "widgets": {
      "application/vnd.jupyter.widget-state+json": {
        "3f3ddb4c1764476bb46c23cb422133a9": {
          "model_module": "@jupyter-widgets/controls",
          "model_name": "HBoxModel",
          "model_module_version": "1.5.0",
          "state": {
            "_dom_classes": [],
            "_model_module": "@jupyter-widgets/controls",
            "_model_module_version": "1.5.0",
            "_model_name": "HBoxModel",
            "_view_count": null,
            "_view_module": "@jupyter-widgets/controls",
            "_view_module_version": "1.5.0",
            "_view_name": "HBoxView",
            "box_style": "",
            "children": [
              "IPY_MODEL_ebe7ea8daefb4423bc1c4b9f1fb5086e",
              "IPY_MODEL_9e4f2611842d4538b6e8da9887487f29",
              "IPY_MODEL_23d5a73aaf36461987f44ec6a597b7bb"
            ],
            "layout": "IPY_MODEL_81785b9ce31b4a23811dff9465b28907"
          }
        },
        "ebe7ea8daefb4423bc1c4b9f1fb5086e": {
          "model_module": "@jupyter-widgets/controls",
          "model_name": "HTMLModel",
          "model_module_version": "1.5.0",
          "state": {
            "_dom_classes": [],
            "_model_module": "@jupyter-widgets/controls",
            "_model_module_version": "1.5.0",
            "_model_name": "HTMLModel",
            "_view_count": null,
            "_view_module": "@jupyter-widgets/controls",
            "_view_module_version": "1.5.0",
            "_view_name": "HTMLView",
            "description": "",
            "description_tooltip": null,
            "layout": "IPY_MODEL_6441f22fbcf740c297b2f6b511750a1e",
            "placeholder": "​",
            "style": "IPY_MODEL_01b62cdda4ab478593b882d6c49a0f3c",
            "value": "100%"
          }
        },
        "9e4f2611842d4538b6e8da9887487f29": {
          "model_module": "@jupyter-widgets/controls",
          "model_name": "FloatProgressModel",
          "model_module_version": "1.5.0",
          "state": {
            "_dom_classes": [],
            "_model_module": "@jupyter-widgets/controls",
            "_model_module_version": "1.5.0",
            "_model_name": "FloatProgressModel",
            "_view_count": null,
            "_view_module": "@jupyter-widgets/controls",
            "_view_module_version": "1.5.0",
            "_view_name": "ProgressView",
            "bar_style": "success",
            "description": "",
            "description_tooltip": null,
            "layout": "IPY_MODEL_6b67947e255a45efaf124e933d9c2117",
            "max": 11,
            "min": 0,
            "orientation": "horizontal",
            "style": "IPY_MODEL_71c237403ef649e19e473cf8abec5bb1",
            "value": 11
          }
        },
        "23d5a73aaf36461987f44ec6a597b7bb": {
          "model_module": "@jupyter-widgets/controls",
          "model_name": "HTMLModel",
          "model_module_version": "1.5.0",
          "state": {
            "_dom_classes": [],
            "_model_module": "@jupyter-widgets/controls",
            "_model_module_version": "1.5.0",
            "_model_name": "HTMLModel",
            "_view_count": null,
            "_view_module": "@jupyter-widgets/controls",
            "_view_module_version": "1.5.0",
            "_view_name": "HTMLView",
            "description": "",
            "description_tooltip": null,
            "layout": "IPY_MODEL_f2abf7f9a79a47179a97a3fa2079ad53",
            "placeholder": "​",
            "style": "IPY_MODEL_6506d52952e64dfea53db361201131a5",
            "value": " 11/11 [00:22&lt;00:00,  2.00s/it]"
          }
        },
        "81785b9ce31b4a23811dff9465b28907": {
          "model_module": "@jupyter-widgets/base",
          "model_name": "LayoutModel",
          "model_module_version": "1.2.0",
          "state": {
            "_model_module": "@jupyter-widgets/base",
            "_model_module_version": "1.2.0",
            "_model_name": "LayoutModel",
            "_view_count": null,
            "_view_module": "@jupyter-widgets/base",
            "_view_module_version": "1.2.0",
            "_view_name": "LayoutView",
            "align_content": null,
            "align_items": null,
            "align_self": null,
            "border": null,
            "bottom": null,
            "display": null,
            "flex": null,
            "flex_flow": null,
            "grid_area": null,
            "grid_auto_columns": null,
            "grid_auto_flow": null,
            "grid_auto_rows": null,
            "grid_column": null,
            "grid_gap": null,
            "grid_row": null,
            "grid_template_areas": null,
            "grid_template_columns": null,
            "grid_template_rows": null,
            "height": null,
            "justify_content": null,
            "justify_items": null,
            "left": null,
            "margin": null,
            "max_height": null,
            "max_width": null,
            "min_height": null,
            "min_width": null,
            "object_fit": null,
            "object_position": null,
            "order": null,
            "overflow": null,
            "overflow_x": null,
            "overflow_y": null,
            "padding": null,
            "right": null,
            "top": null,
            "visibility": null,
            "width": null
          }
        },
        "6441f22fbcf740c297b2f6b511750a1e": {
          "model_module": "@jupyter-widgets/base",
          "model_name": "LayoutModel",
          "model_module_version": "1.2.0",
          "state": {
            "_model_module": "@jupyter-widgets/base",
            "_model_module_version": "1.2.0",
            "_model_name": "LayoutModel",
            "_view_count": null,
            "_view_module": "@jupyter-widgets/base",
            "_view_module_version": "1.2.0",
            "_view_name": "LayoutView",
            "align_content": null,
            "align_items": null,
            "align_self": null,
            "border": null,
            "bottom": null,
            "display": null,
            "flex": null,
            "flex_flow": null,
            "grid_area": null,
            "grid_auto_columns": null,
            "grid_auto_flow": null,
            "grid_auto_rows": null,
            "grid_column": null,
            "grid_gap": null,
            "grid_row": null,
            "grid_template_areas": null,
            "grid_template_columns": null,
            "grid_template_rows": null,
            "height": null,
            "justify_content": null,
            "justify_items": null,
            "left": null,
            "margin": null,
            "max_height": null,
            "max_width": null,
            "min_height": null,
            "min_width": null,
            "object_fit": null,
            "object_position": null,
            "order": null,
            "overflow": null,
            "overflow_x": null,
            "overflow_y": null,
            "padding": null,
            "right": null,
            "top": null,
            "visibility": null,
            "width": null
          }
        },
        "01b62cdda4ab478593b882d6c49a0f3c": {
          "model_module": "@jupyter-widgets/controls",
          "model_name": "DescriptionStyleModel",
          "model_module_version": "1.5.0",
          "state": {
            "_model_module": "@jupyter-widgets/controls",
            "_model_module_version": "1.5.0",
            "_model_name": "DescriptionStyleModel",
            "_view_count": null,
            "_view_module": "@jupyter-widgets/base",
            "_view_module_version": "1.2.0",
            "_view_name": "StyleView",
            "description_width": ""
          }
        },
        "6b67947e255a45efaf124e933d9c2117": {
          "model_module": "@jupyter-widgets/base",
          "model_name": "LayoutModel",
          "model_module_version": "1.2.0",
          "state": {
            "_model_module": "@jupyter-widgets/base",
            "_model_module_version": "1.2.0",
            "_model_name": "LayoutModel",
            "_view_count": null,
            "_view_module": "@jupyter-widgets/base",
            "_view_module_version": "1.2.0",
            "_view_name": "LayoutView",
            "align_content": null,
            "align_items": null,
            "align_self": null,
            "border": null,
            "bottom": null,
            "display": null,
            "flex": null,
            "flex_flow": null,
            "grid_area": null,
            "grid_auto_columns": null,
            "grid_auto_flow": null,
            "grid_auto_rows": null,
            "grid_column": null,
            "grid_gap": null,
            "grid_row": null,
            "grid_template_areas": null,
            "grid_template_columns": null,
            "grid_template_rows": null,
            "height": null,
            "justify_content": null,
            "justify_items": null,
            "left": null,
            "margin": null,
            "max_height": null,
            "max_width": null,
            "min_height": null,
            "min_width": null,
            "object_fit": null,
            "object_position": null,
            "order": null,
            "overflow": null,
            "overflow_x": null,
            "overflow_y": null,
            "padding": null,
            "right": null,
            "top": null,
            "visibility": null,
            "width": null
          }
        },
        "71c237403ef649e19e473cf8abec5bb1": {
          "model_module": "@jupyter-widgets/controls",
          "model_name": "ProgressStyleModel",
          "model_module_version": "1.5.0",
          "state": {
            "_model_module": "@jupyter-widgets/controls",
            "_model_module_version": "1.5.0",
            "_model_name": "ProgressStyleModel",
            "_view_count": null,
            "_view_module": "@jupyter-widgets/base",
            "_view_module_version": "1.2.0",
            "_view_name": "StyleView",
            "bar_color": null,
            "description_width": ""
          }
        },
        "f2abf7f9a79a47179a97a3fa2079ad53": {
          "model_module": "@jupyter-widgets/base",
          "model_name": "LayoutModel",
          "model_module_version": "1.2.0",
          "state": {
            "_model_module": "@jupyter-widgets/base",
            "_model_module_version": "1.2.0",
            "_model_name": "LayoutModel",
            "_view_count": null,
            "_view_module": "@jupyter-widgets/base",
            "_view_module_version": "1.2.0",
            "_view_name": "LayoutView",
            "align_content": null,
            "align_items": null,
            "align_self": null,
            "border": null,
            "bottom": null,
            "display": null,
            "flex": null,
            "flex_flow": null,
            "grid_area": null,
            "grid_auto_columns": null,
            "grid_auto_flow": null,
            "grid_auto_rows": null,
            "grid_column": null,
            "grid_gap": null,
            "grid_row": null,
            "grid_template_areas": null,
            "grid_template_columns": null,
            "grid_template_rows": null,
            "height": null,
            "justify_content": null,
            "justify_items": null,
            "left": null,
            "margin": null,
            "max_height": null,
            "max_width": null,
            "min_height": null,
            "min_width": null,
            "object_fit": null,
            "object_position": null,
            "order": null,
            "overflow": null,
            "overflow_x": null,
            "overflow_y": null,
            "padding": null,
            "right": null,
            "top": null,
            "visibility": null,
            "width": null
          }
        },
        "6506d52952e64dfea53db361201131a5": {
          "model_module": "@jupyter-widgets/controls",
          "model_name": "DescriptionStyleModel",
          "model_module_version": "1.5.0",
          "state": {
            "_model_module": "@jupyter-widgets/controls",
            "_model_module_version": "1.5.0",
            "_model_name": "DescriptionStyleModel",
            "_view_count": null,
            "_view_module": "@jupyter-widgets/base",
            "_view_module_version": "1.2.0",
            "_view_name": "StyleView",
            "description_width": ""
          }
        }
      }
    }
  },
  "cells": [
    {
      "cell_type": "markdown",
      "metadata": {
        "id": "view-in-github",
        "colab_type": "text"
      },
      "source": [
        "<a href=\"https://colab.research.google.com/github/Dehan001/data_science/blob/main/python_data_structures.ipynb\" target=\"_parent\"><img src=\"https://colab.research.google.com/assets/colab-badge.svg\" alt=\"Open In Colab\"/></a>"
      ]
    },
    {
      "cell_type": "markdown",
      "metadata": {
        "id": "IpBs1k_TGumz"
      },
      "source": [
        "# Python Data Structures (Containers)\n",
        "- Lists\n",
        "- Dictionaries\n",
        "- Sets\n",
        "- Tuples"
      ]
    },
    {
      "cell_type": "markdown",
      "metadata": {
        "id": "kjVif4cxHnp0"
      },
      "source": [
        "# List\n",
        "Python equivalent of an array, but is resizeable and can contain elements of different data types."
      ]
    },
    {
      "cell_type": "code",
      "metadata": {
        "colab": {
          "base_uri": "https://localhost:8080/"
        },
        "id": "cFdYN3gIGivd",
        "outputId": "4eb7f589-6566-4afe-ff63-4afc3a6d880b"
      },
      "source": [
        "# Indexing 0 1 2 3\n",
        "x = ['AI',1,'is',2,'the',2.4,'new',True,'electricity']\n",
        "x"
      ],
      "execution_count": null,
      "outputs": [
        {
          "output_type": "execute_result",
          "data": {
            "text/plain": [
              "['AI', 1, 'is', 2, 'the', 2.4, 'new', True, 'electricity']"
            ]
          },
          "metadata": {},
          "execution_count": 1
        }
      ]
    },
    {
      "cell_type": "code",
      "metadata": {
        "colab": {
          "base_uri": "https://localhost:8080/"
        },
        "id": "oIwoNQRfO-tm",
        "outputId": "2c569961-afb8-4692-bd73-fa56589c37ec"
      },
      "source": [
        "x[0], x[3] # Indexing"
      ],
      "execution_count": null,
      "outputs": [
        {
          "output_type": "execute_result",
          "data": {
            "text/plain": [
              "('AI', 2)"
            ]
          },
          "metadata": {},
          "execution_count": 2
        }
      ]
    },
    {
      "cell_type": "code",
      "metadata": {
        "colab": {
          "base_uri": "https://localhost:8080/"
        },
        "id": "0MpMQmEsPECr",
        "outputId": "32cf9a3e-0a93-4bf6-97e3-8189ab134c2a"
      },
      "source": [
        "x[-1], x[-4] # Negative indices count from the end of the list"
      ],
      "execution_count": null,
      "outputs": [
        {
          "output_type": "execute_result",
          "data": {
            "text/plain": [
              "('electricity', 2.4)"
            ]
          },
          "metadata": {},
          "execution_count": 3
        }
      ]
    },
    {
      "cell_type": "code",
      "metadata": {
        "colab": {
          "base_uri": "https://localhost:8080/"
        },
        "id": "nXCDEnUZPO27",
        "outputId": "e2b76671-9256-48d4-881e-bff56eea476b"
      },
      "source": [
        "x[-1]='revolution' # Assigning values to a list\n",
        "x"
      ],
      "execution_count": null,
      "outputs": [
        {
          "output_type": "execute_result",
          "data": {
            "text/plain": [
              "['AI', 1, 'is', 2, 'the', 2.4, 'new', True, 'revolution']"
            ]
          },
          "metadata": {},
          "execution_count": 4
        }
      ]
    },
    {
      "cell_type": "code",
      "metadata": {
        "colab": {
          "base_uri": "https://localhost:8080/"
        },
        "id": "WxE8iPEFPZCb",
        "outputId": "5a44a831-3de0-4da0-bdec-47556236299e"
      },
      "source": [
        "x.append(3) # Add a new element to the end of the list\n",
        "x"
      ],
      "execution_count": null,
      "outputs": [
        {
          "output_type": "execute_result",
          "data": {
            "text/plain": [
              "['AI', 1, 'is', 2, 'the', 2.4, 'new', True, 'revolution', 3]"
            ]
          },
          "metadata": {},
          "execution_count": 5
        }
      ]
    },
    {
      "cell_type": "code",
      "metadata": {
        "colab": {
          "base_uri": "https://localhost:8080/"
        },
        "id": "bfyx86KbPmsT",
        "outputId": "2839c276-3b04-4ea0-9786-07f971bdd2da"
      },
      "source": [
        "x.extend(['We', 'love', 'Python']) # Add multiple new element to the end of the list\n",
        "x"
      ],
      "execution_count": null,
      "outputs": [
        {
          "output_type": "execute_result",
          "data": {
            "text/plain": [
              "['AI',\n",
              " 1,\n",
              " 'is',\n",
              " 2,\n",
              " 'the',\n",
              " 2.4,\n",
              " 'new',\n",
              " True,\n",
              " 'revolution',\n",
              " 3,\n",
              " 'We',\n",
              " 'love',\n",
              " 'Python']"
            ]
          },
          "metadata": {},
          "execution_count": 6
        }
      ]
    },
    {
      "cell_type": "code",
      "metadata": {
        "colab": {
          "base_uri": "https://localhost:8080/"
        },
        "id": "rr5tGT95PwmD",
        "outputId": "66f2ccb5-bc68-491f-e23d-a06377e36c58"
      },
      "source": [
        "x.append(['We', 'love', 'Python']) # Add a list to the end of the list\n",
        "x"
      ],
      "execution_count": null,
      "outputs": [
        {
          "output_type": "execute_result",
          "data": {
            "text/plain": [
              "['AI',\n",
              " 1,\n",
              " 'is',\n",
              " 2,\n",
              " 'the',\n",
              " 2.4,\n",
              " 'new',\n",
              " True,\n",
              " 'revolution',\n",
              " 3,\n",
              " 'We',\n",
              " 'love',\n",
              " 'Python',\n",
              " ['We', 'love', 'Python']]"
            ]
          },
          "metadata": {},
          "execution_count": 7
        }
      ]
    },
    {
      "cell_type": "code",
      "metadata": {
        "colab": {
          "base_uri": "https://localhost:8080/",
          "height": 36
        },
        "id": "VPAw_O9gQN-t",
        "outputId": "f04138b3-4696-4cf9-9219-caa40c1caeef"
      },
      "source": [
        "x[-1][-1] # We can also access the list inside the list"
      ],
      "execution_count": null,
      "outputs": [
        {
          "output_type": "execute_result",
          "data": {
            "text/plain": [
              "'Python'"
            ],
            "application/vnd.google.colaboratory.intrinsic+json": {
              "type": "string"
            }
          },
          "metadata": {},
          "execution_count": 8
        }
      ]
    },
    {
      "cell_type": "code",
      "metadata": {
        "colab": {
          "base_uri": "https://localhost:8080/"
        },
        "id": "ornOmS83QWOb",
        "outputId": "3bb74ff9-8393-429a-e2ec-e8795c7f8d87"
      },
      "source": [
        "# Deleting values\n",
        "rem = x.pop()\n",
        "rem, x"
      ],
      "execution_count": null,
      "outputs": [
        {
          "output_type": "execute_result",
          "data": {
            "text/plain": [
              "(['We', 'love', 'Python'],\n",
              " ['AI',\n",
              "  1,\n",
              "  'is',\n",
              "  2,\n",
              "  'the',\n",
              "  2.4,\n",
              "  'new',\n",
              "  True,\n",
              "  'revolution',\n",
              "  3,\n",
              "  'We',\n",
              "  'love',\n",
              "  'Python'])"
            ]
          },
          "metadata": {},
          "execution_count": 9
        }
      ]
    },
    {
      "cell_type": "code",
      "metadata": {
        "colab": {
          "base_uri": "https://localhost:8080/"
        },
        "id": "OkjvLmc_bEs6",
        "outputId": "c125e153-e5e5-49aa-f44c-12f2acf5b0a6"
      },
      "source": [
        "x"
      ],
      "execution_count": null,
      "outputs": [
        {
          "output_type": "execute_result",
          "data": {
            "text/plain": [
              "['AI',\n",
              " 1,\n",
              " 'is',\n",
              " 2,\n",
              " 'the',\n",
              " 2.4,\n",
              " 'new',\n",
              " True,\n",
              " 'revolution',\n",
              " 3,\n",
              " 'We',\n",
              " 'love',\n",
              " 'Python']"
            ]
          },
          "metadata": {},
          "execution_count": 10
        }
      ]
    },
    {
      "cell_type": "code",
      "metadata": {
        "colab": {
          "base_uri": "https://localhost:8080/"
        },
        "id": "2ihNCU_RQhik",
        "outputId": "25aecc0e-6548-4dc8-9634-4898a8b0d9e4"
      },
      "source": [
        "x.remove('Python')\n",
        "x"
      ],
      "execution_count": null,
      "outputs": [
        {
          "output_type": "execute_result",
          "data": {
            "text/plain": [
              "['AI', 1, 'is', 2, 'the', 2.4, 'new', True, 'revolution', 3, 'We', 'love']"
            ]
          },
          "metadata": {},
          "execution_count": 11
        }
      ]
    },
    {
      "cell_type": "code",
      "metadata": {
        "colab": {
          "base_uri": "https://localhost:8080/"
        },
        "id": "gQV4Fx_lQol0",
        "outputId": "a3e8ade7-9b94-46f1-ff99-1af5f632d102"
      },
      "source": [
        "del x[-3]\n",
        "x"
      ],
      "execution_count": null,
      "outputs": [
        {
          "output_type": "execute_result",
          "data": {
            "text/plain": [
              "['AI', 1, 'is', 2, 'the', 2.4, 'new', True, 'revolution', 'We', 'love']"
            ]
          },
          "metadata": {},
          "execution_count": 12
        }
      ]
    },
    {
      "cell_type": "code",
      "metadata": {
        "colab": {
          "base_uri": "https://localhost:8080/"
        },
        "id": "gfVu0SmcQ0GM",
        "outputId": "853156d4-c56e-4a60-a2aa-66884b45c480"
      },
      "source": [
        "# Slicing\n",
        "x[1:5]  # Get a slice from index 0 to 5 (exclusive)"
      ],
      "execution_count": null,
      "outputs": [
        {
          "output_type": "execute_result",
          "data": {
            "text/plain": [
              "[1, 'is', 2, 'the']"
            ]
          },
          "metadata": {},
          "execution_count": 13
        }
      ]
    },
    {
      "cell_type": "code",
      "metadata": {
        "colab": {
          "base_uri": "https://localhost:8080/"
        },
        "id": "EquTAFEMQ_PU",
        "outputId": "f6f1e952-7a86-4c03-c6c1-c2767504600a"
      },
      "source": [
        "x[3:] # Get a slice from index 3 to the end"
      ],
      "execution_count": null,
      "outputs": [
        {
          "output_type": "execute_result",
          "data": {
            "text/plain": [
              "[2, 'the', 2.4, 'new', True, 'revolution', 'We', 'love']"
            ]
          },
          "metadata": {},
          "execution_count": 14
        }
      ]
    },
    {
      "cell_type": "code",
      "metadata": {
        "colab": {
          "base_uri": "https://localhost:8080/"
        },
        "id": "h-21uZ6bRKIk",
        "outputId": "3ac2590d-8da3-4d58-8add-fa48d42f816f"
      },
      "source": [
        "x[:3] # Get a slice from the start to index 2 (exclusive)"
      ],
      "execution_count": null,
      "outputs": [
        {
          "output_type": "execute_result",
          "data": {
            "text/plain": [
              "['AI', 1, 'is']"
            ]
          },
          "metadata": {},
          "execution_count": 15
        }
      ]
    },
    {
      "cell_type": "code",
      "metadata": {
        "colab": {
          "base_uri": "https://localhost:8080/"
        },
        "id": "MLfRvc17RTCs",
        "outputId": "665e1420-e7cc-4ec9-a0d1-02889427b56b"
      },
      "source": [
        "x[:] # Get a slice of the whole list"
      ],
      "execution_count": null,
      "outputs": [
        {
          "output_type": "execute_result",
          "data": {
            "text/plain": [
              "['AI', 1, 'is', 2, 'the', 2.4, 'new', True, 'revolution', 'We', 'love']"
            ]
          },
          "metadata": {},
          "execution_count": 16
        }
      ]
    },
    {
      "cell_type": "code",
      "metadata": {
        "colab": {
          "base_uri": "https://localhost:8080/"
        },
        "id": "2TlAeMSFcLf2",
        "outputId": "c9cd170e-5f5d-400b-cc9d-433d54442a23"
      },
      "source": [
        "len(x) # prints out the length"
      ],
      "execution_count": null,
      "outputs": [
        {
          "output_type": "execute_result",
          "data": {
            "text/plain": [
              "11"
            ]
          },
          "metadata": {},
          "execution_count": 17
        }
      ]
    },
    {
      "cell_type": "code",
      "metadata": {
        "colab": {
          "base_uri": "https://localhost:8080/"
        },
        "id": "g9zbMEXfRU8s",
        "outputId": "36652dd9-2682-4abb-9c1a-99d3fee648d0"
      },
      "source": [
        "x[:-3]"
      ],
      "execution_count": null,
      "outputs": [
        {
          "output_type": "execute_result",
          "data": {
            "text/plain": [
              "['AI', 1, 'is', 2, 'the', 2.4, 'new', True]"
            ]
          },
          "metadata": {},
          "execution_count": 18
        }
      ]
    },
    {
      "cell_type": "markdown",
      "metadata": {
        "id": "GwG7fbC1R3l1"
      },
      "source": [
        "## Loops"
      ]
    },
    {
      "cell_type": "code",
      "metadata": {
        "colab": {
          "base_uri": "https://localhost:8080/"
        },
        "id": "ZqG_zo6mSTGU",
        "outputId": "1fd8154f-e232-40cd-f2c0-8f169c11c1ad"
      },
      "source": [
        "for element in x:\n",
        "  print(element)"
      ],
      "execution_count": null,
      "outputs": [
        {
          "output_type": "stream",
          "name": "stdout",
          "text": [
            "AI\n",
            "1\n",
            "is\n",
            "2\n",
            "the\n",
            "2.4\n",
            "new\n",
            "True\n",
            "revolution\n",
            "We\n",
            "love\n"
          ]
        }
      ]
    },
    {
      "cell_type": "code",
      "metadata": {
        "colab": {
          "base_uri": "https://localhost:8080/"
        },
        "id": "zZ41EgTwcgid",
        "outputId": "ccaea1ca-2a9b-4c86-9d2c-8679a88a627e"
      },
      "source": [
        "list(enumerate(x))"
      ],
      "execution_count": null,
      "outputs": [
        {
          "output_type": "execute_result",
          "data": {
            "text/plain": [
              "[(0, 'AI'),\n",
              " (1, 1),\n",
              " (2, 'is'),\n",
              " (3, 2),\n",
              " (4, 'the'),\n",
              " (5, 2.4),\n",
              " (6, 'new'),\n",
              " (7, True),\n",
              " (8, 'revolution'),\n",
              " (9, 'We'),\n",
              " (10, 'love')]"
            ]
          },
          "metadata": {},
          "execution_count": 20
        }
      ]
    },
    {
      "cell_type": "code",
      "metadata": {
        "id": "vF6ApNZESbql"
      },
      "source": [
        "# If you want access to the index of each element within the body of a loop, use the built-in enumerate function\n",
        "for idx,element in enumerate(x):\n",
        "  print(\"%d %s\" %(idx,element))"
      ],
      "execution_count": null,
      "outputs": []
    },
    {
      "cell_type": "code",
      "source": [
        "stx = \"MasterCourse bridges gap between academia and industry\"\n",
        "y = stx.split()\n",
        "y"
      ],
      "metadata": {
        "colab": {
          "base_uri": "https://localhost:8080/"
        },
        "id": "bEC8JCSv7IXp",
        "outputId": "f4f5b9c7-925a-47e2-9160-703f656f1ce8"
      },
      "execution_count": null,
      "outputs": [
        {
          "output_type": "execute_result",
          "data": {
            "text/plain": [
              "['MasterCourse', 'bridges', 'gap', 'between', 'academia', 'and', 'industry']"
            ]
          },
          "metadata": {},
          "execution_count": 21
        }
      ]
    },
    {
      "cell_type": "code",
      "source": [
        "for xv, yv in zip(x,y):\n",
        "  print(xv, yv)"
      ],
      "metadata": {
        "colab": {
          "base_uri": "https://localhost:8080/"
        },
        "id": "Wm4cHRzp7fs5",
        "outputId": "4218b63c-24d8-4e00-9b82-e3f14cacb371"
      },
      "execution_count": null,
      "outputs": [
        {
          "output_type": "stream",
          "name": "stdout",
          "text": [
            "AI MasterCourse\n",
            "1 bridges\n",
            "is gap\n",
            "2 between\n",
            "the academia\n",
            "2.4 and\n",
            "new industry\n"
          ]
        }
      ]
    },
    {
      "cell_type": "code",
      "source": [
        "from tqdm import tqdm\n",
        "import time\n",
        "concat = \"\"\n",
        "for xv in tqdm(x):\n",
        "  concat = concat + str(xv)\n",
        "  time.sleep(2)"
      ],
      "metadata": {
        "colab": {
          "base_uri": "https://localhost:8080/"
        },
        "id": "pDn5gue17yR8",
        "outputId": "920e6945-2854-4797-e690-70be6044c16c"
      },
      "execution_count": null,
      "outputs": [
        {
          "output_type": "stream",
          "name": "stderr",
          "text": [
            "100%|██████████| 11/11 [00:22<00:00,  2.00s/it]\n"
          ]
        }
      ]
    },
    {
      "cell_type": "code",
      "source": [
        "from tqdm.notebook import tqdm\n",
        "import time\n",
        "concat = \"\"\n",
        "for xv in tqdm(x):\n",
        "  concat = concat + str(xv)\n",
        "  time.sleep(2)"
      ],
      "metadata": {
        "colab": {
          "base_uri": "https://localhost:8080/",
          "height": 49,
          "referenced_widgets": [
            "3f3ddb4c1764476bb46c23cb422133a9",
            "ebe7ea8daefb4423bc1c4b9f1fb5086e",
            "9e4f2611842d4538b6e8da9887487f29",
            "23d5a73aaf36461987f44ec6a597b7bb",
            "81785b9ce31b4a23811dff9465b28907",
            "6441f22fbcf740c297b2f6b511750a1e",
            "01b62cdda4ab478593b882d6c49a0f3c",
            "6b67947e255a45efaf124e933d9c2117",
            "71c237403ef649e19e473cf8abec5bb1",
            "f2abf7f9a79a47179a97a3fa2079ad53",
            "6506d52952e64dfea53db361201131a5"
          ]
        },
        "id": "n2tuBJRH8Xjj",
        "outputId": "d84dafe1-b4a2-40f6-e609-e395b14f233f"
      },
      "execution_count": null,
      "outputs": [
        {
          "output_type": "display_data",
          "data": {
            "text/plain": [
              "  0%|          | 0/11 [00:00<?, ?it/s]"
            ],
            "application/vnd.jupyter.widget-view+json": {
              "version_major": 2,
              "version_minor": 0,
              "model_id": "3f3ddb4c1764476bb46c23cb422133a9"
            }
          },
          "metadata": {}
        }
      ]
    },
    {
      "cell_type": "markdown",
      "metadata": {
        "id": "5uigkhR5Swjk"
      },
      "source": [
        "## List Comprehensions"
      ]
    },
    {
      "cell_type": "code",
      "metadata": {
        "colab": {
          "base_uri": "https://localhost:8080/"
        },
        "id": "EKEwbKFnSzl0",
        "outputId": "5125fa6c-aa78-4f81-8c59-153f44b31ef1"
      },
      "source": [
        "import time\n",
        "start = time.time()\n",
        "\n",
        "nums = list(range(0,5))\n",
        "squares = []\n",
        "\n",
        "for x in nums:\n",
        "  squares.append(x**2)\n",
        "\n",
        "done = time.time()\n",
        "\n",
        "elapsed = done - start\n",
        "\n",
        "squares,elapsed"
      ],
      "execution_count": null,
      "outputs": [
        {
          "output_type": "execute_result",
          "data": {
            "text/plain": [
              "0.0005440711975097656"
            ]
          },
          "metadata": {},
          "execution_count": 35
        }
      ]
    },
    {
      "cell_type": "code",
      "metadata": {
        "colab": {
          "base_uri": "https://localhost:8080/"
        },
        "id": "PhVmGCGNTOh9",
        "outputId": "13ed3711-deb2-4cd1-a952-9cd58da7ad07"
      },
      "source": [
        "# The upper codeblock can be written as following\n",
        "import time\n",
        "start = time.time()\n",
        "\n",
        "squares = [x**2 for x in list(range(0,5))]\n",
        "\n",
        "done = time.time()\n",
        "\n",
        "elapsed = done - start\n",
        "\n",
        "squares,elapsed"
      ],
      "execution_count": null,
      "outputs": [
        {
          "output_type": "execute_result",
          "data": {
            "text/plain": [
              "0.00045943260192871094"
            ]
          },
          "metadata": {},
          "execution_count": 36
        }
      ]
    },
    {
      "cell_type": "code",
      "metadata": {
        "colab": {
          "base_uri": "https://localhost:8080/"
        },
        "id": "O2x1ExFOTfdu",
        "outputId": "ea6ae234-e100-45bd-95cf-827deb9f3b00"
      },
      "source": [
        "# Can also contain conditions\n",
        "nums = list(range(0,5))\n",
        "even_squares = [x ** 2 for x in nums if x % 2 == 0]\n",
        "even_squares"
      ],
      "execution_count": null,
      "outputs": [
        {
          "output_type": "execute_result",
          "data": {
            "text/plain": [
              "[0, 4, 16]"
            ]
          },
          "metadata": {},
          "execution_count": 37
        }
      ]
    },
    {
      "cell_type": "markdown",
      "metadata": {
        "id": "4fYlEJVa2gdZ"
      },
      "source": [
        "# Dictionaries\n",
        "\n",
        "A dictionary stores (key, value) pairs"
      ]
    },
    {
      "cell_type": "code",
      "metadata": {
        "colab": {
          "base_uri": "https://localhost:8080/"
        },
        "id": "voQtRgv62i3i",
        "outputId": "7a480015-325c-4052-ac24-954ad39e88b9"
      },
      "source": [
        "d = {'cat': 'cute', 'dog': 'furry'}  # Create a new dictionary with some data\n",
        "print(d['cat'])"
      ],
      "execution_count": null,
      "outputs": [
        {
          "output_type": "stream",
          "name": "stdout",
          "text": [
            "cute\n"
          ]
        }
      ]
    },
    {
      "cell_type": "code",
      "metadata": {
        "colab": {
          "base_uri": "https://localhost:8080/"
        },
        "id": "aik12m9O2sMS",
        "outputId": "c6f470cf-ecbb-4613-8dd3-c7de533cdda3"
      },
      "source": [
        "print('cat' in d)     # Check if a dictionary has a given key; prints \"True\""
      ],
      "execution_count": null,
      "outputs": [
        {
          "output_type": "stream",
          "name": "stdout",
          "text": [
            "True\n"
          ]
        }
      ]
    },
    {
      "cell_type": "code",
      "source": [
        "list(d.keys()), list(d.values())"
      ],
      "metadata": {
        "colab": {
          "base_uri": "https://localhost:8080/"
        },
        "id": "44UjeS_L-I5M",
        "outputId": "6564b6d8-794f-4ed2-ca24-475be9e02045"
      },
      "execution_count": null,
      "outputs": [
        {
          "output_type": "execute_result",
          "data": {
            "text/plain": [
              "(['cat', 'dog'], ['cute', 'furry'])"
            ]
          },
          "metadata": {},
          "execution_count": 41
        }
      ]
    },
    {
      "cell_type": "code",
      "metadata": {
        "colab": {
          "base_uri": "https://localhost:8080/"
        },
        "id": "f7dj9l252xGB",
        "outputId": "17c5f9f6-45b9-4c19-dc3e-02f266699bb4"
      },
      "source": [
        "d['fish'] = 'wet'     # Add element to a dictionary\n",
        "print(d['fish'])\n",
        "d"
      ],
      "execution_count": null,
      "outputs": [
        {
          "output_type": "stream",
          "name": "stdout",
          "text": [
            "wet\n"
          ]
        },
        {
          "output_type": "execute_result",
          "data": {
            "text/plain": [
              "{'cat': 'cute', 'dog': 'furry', 'fish': 'wet'}"
            ]
          },
          "metadata": {},
          "execution_count": 42
        }
      ]
    },
    {
      "cell_type": "code",
      "metadata": {
        "colab": {
          "base_uri": "https://localhost:8080/"
        },
        "id": "Ld22rj9W4FBm",
        "outputId": "e7393f8f-8eec-407b-b471-407c23742656"
      },
      "source": [
        "d.update({'bird':'feathery','koala':'sleepy'}) # Add multiple elements to a dictionary\n",
        "d"
      ],
      "execution_count": null,
      "outputs": [
        {
          "output_type": "execute_result",
          "data": {
            "text/plain": [
              "{'cat': 'cute',\n",
              " 'dog': 'furry',\n",
              " 'fish': 'wet',\n",
              " 'bird': 'feathery',\n",
              " 'koala': 'sleepy'}"
            ]
          },
          "metadata": {},
          "execution_count": 43
        }
      ]
    },
    {
      "cell_type": "code",
      "metadata": {
        "id": "Wxu5x3Nh28ID"
      },
      "source": [
        "# print(d['monkey'])  # KeyError: 'monkey' not a key of d"
      ],
      "execution_count": null,
      "outputs": []
    },
    {
      "cell_type": "code",
      "metadata": {
        "colab": {
          "base_uri": "https://localhost:8080/"
        },
        "id": "rFo5Es4u3CNK",
        "outputId": "0d41406c-8a38-4422-ae48-8271c936a824"
      },
      "source": [
        "print(d.get('monkey', 'banana'))\n",
        "print(d.get('koala', 'none'))"
      ],
      "execution_count": null,
      "outputs": [
        {
          "output_type": "stream",
          "name": "stdout",
          "text": [
            "banana\n",
            "sleepy\n"
          ]
        }
      ]
    },
    {
      "cell_type": "code",
      "metadata": {
        "colab": {
          "base_uri": "https://localhost:8080/"
        },
        "id": "euCmVzZA3HeK",
        "outputId": "e549188a-3639-4e61-fc6b-dfafcc5b305e"
      },
      "source": [
        "del d['fish'] # Delete element\n",
        "print(d.get('fish', 'N/A'))"
      ],
      "execution_count": null,
      "outputs": [
        {
          "output_type": "stream",
          "name": "stdout",
          "text": [
            "N/A\n"
          ]
        }
      ]
    },
    {
      "cell_type": "code",
      "metadata": {
        "colab": {
          "base_uri": "https://localhost:8080/"
        },
        "id": "usLQ6h5pD5N_",
        "outputId": "99d9d797-1ce8-464f-d759-6ab117f16d47"
      },
      "source": [
        "d"
      ],
      "execution_count": null,
      "outputs": [
        {
          "output_type": "execute_result",
          "data": {
            "text/plain": [
              "{'cat': 'cute', 'dog': 'furry', 'bird': 'feathery', 'koala': 'sleepy'}"
            ]
          },
          "metadata": {},
          "execution_count": 48
        }
      ]
    },
    {
      "cell_type": "markdown",
      "metadata": {
        "id": "y5_Wjt6v7xiU"
      },
      "source": [
        "## Loop"
      ]
    },
    {
      "cell_type": "code",
      "metadata": {
        "colab": {
          "base_uri": "https://localhost:8080/"
        },
        "id": "3h3N5cMd7y_N",
        "outputId": "48705c48-8504-4a1b-ac93-c752deec82ce"
      },
      "source": [
        "for animal in d:\n",
        "    attrib = d[animal]\n",
        "    print('A %s is %s' % (animal, attrib))"
      ],
      "execution_count": null,
      "outputs": [
        {
          "output_type": "stream",
          "name": "stdout",
          "text": [
            "A cat is cute\n",
            "A dog is furry\n",
            "A bird is feathery\n",
            "A koala is sleepy\n"
          ]
        }
      ]
    },
    {
      "cell_type": "code",
      "metadata": {
        "colab": {
          "base_uri": "https://localhost:8080/"
        },
        "id": "8oAKhgsUEPZq",
        "outputId": "f97c4929-2462-4f14-c0ad-043061430428"
      },
      "source": [
        "d.items()"
      ],
      "execution_count": null,
      "outputs": [
        {
          "output_type": "execute_result",
          "data": {
            "text/plain": [
              "dict_items([('cat', 'cute'), ('dog', 'furry'), ('bird', 'feathery'), ('koala', 'sleepy')])"
            ]
          },
          "metadata": {},
          "execution_count": 50
        }
      ]
    },
    {
      "cell_type": "code",
      "metadata": {
        "colab": {
          "base_uri": "https://localhost:8080/"
        },
        "id": "qJG6ynsK-wC0",
        "outputId": "f400dbec-6898-490d-8095-79dbdf3d6f2c"
      },
      "source": [
        "for animal, attrib in d.items():\n",
        "    print('A %s is %s' % (animal, attrib))"
      ],
      "execution_count": null,
      "outputs": [
        {
          "output_type": "stream",
          "name": "stdout",
          "text": [
            "A cat is cute\n",
            "A dog is furry\n",
            "A bird is feathery\n",
            "A koala is sleepy\n"
          ]
        }
      ]
    },
    {
      "cell_type": "markdown",
      "metadata": {
        "id": "8CyFoe61-8Wi"
      },
      "source": [
        "## Dictionary Comprehensions"
      ]
    },
    {
      "cell_type": "code",
      "metadata": {
        "colab": {
          "base_uri": "https://localhost:8080/"
        },
        "id": "HVc9L8qn-3Lq",
        "outputId": "f202f357-0d6a-4cb0-f64a-b75fb6b66ea8"
      },
      "source": [
        "nums = list(range(0,20))\n",
        "even_num_squares = {x: x ** 2 for x in nums if x % 2 == 0}\n",
        "even_num_squares"
      ],
      "execution_count": null,
      "outputs": [
        {
          "output_type": "execute_result",
          "data": {
            "text/plain": [
              "{0: 0, 2: 4, 4: 16, 6: 36, 8: 64, 10: 100, 12: 144, 14: 196, 16: 256, 18: 324}"
            ]
          },
          "metadata": {},
          "execution_count": 53
        }
      ]
    },
    {
      "cell_type": "markdown",
      "metadata": {
        "id": "0omenFVb_MhC"
      },
      "source": [
        "# Sets\n",
        "A set is an unordered collection of distinct elements."
      ]
    },
    {
      "cell_type": "code",
      "metadata": {
        "colab": {
          "base_uri": "https://localhost:8080/"
        },
        "id": "eICZbDuJ_PJF",
        "outputId": "aee4789e-8bed-4f28-c118-9d8656e59094"
      },
      "source": [
        "animals = {'cat', 'dog'}\n",
        "print('cat' in animals)   # Check if an element is in a set\n",
        "print('fish' in animals)  # Check if an element is in a set\n",
        "\n",
        "animals.add('fish')       # Add an element to a set\n",
        "print('fish' in animals)  # Check if an element is in a set"
      ],
      "execution_count": null,
      "outputs": [
        {
          "output_type": "stream",
          "name": "stdout",
          "text": [
            "True\n",
            "False\n",
            "True\n"
          ]
        }
      ]
    },
    {
      "cell_type": "code",
      "metadata": {
        "colab": {
          "base_uri": "https://localhost:8080/"
        },
        "id": "NtkT6ib_FNot",
        "outputId": "c5b9a587-eda0-4074-ec6c-36f5c2e1ead6"
      },
      "source": [
        "animals"
      ],
      "execution_count": null,
      "outputs": [
        {
          "output_type": "execute_result",
          "data": {
            "text/plain": [
              "{'cat', 'dog', 'fish'}"
            ]
          },
          "metadata": {},
          "execution_count": 55
        }
      ]
    },
    {
      "cell_type": "code",
      "metadata": {
        "colab": {
          "base_uri": "https://localhost:8080/"
        },
        "id": "8LM2mIug_fC0",
        "outputId": "ee348f5b-fb27-42ae-8692-de9252c77695"
      },
      "source": [
        "print(len(animals))       # Number of elements in a set\n",
        "animals.add('cat')        # Adding an element that is already in the set does nothing\n",
        "print(len(animals))\n",
        "print(animals)"
      ],
      "execution_count": null,
      "outputs": [
        {
          "output_type": "stream",
          "name": "stdout",
          "text": [
            "3\n",
            "3\n",
            "{'fish', 'dog', 'cat'}\n"
          ]
        }
      ]
    },
    {
      "cell_type": "code",
      "source": [
        "animals.remove('cat')     # Remove an element from a set\n",
        "print(len(animals))\n",
        "print(animals)"
      ],
      "metadata": {
        "colab": {
          "base_uri": "https://localhost:8080/"
        },
        "id": "ocEE7QTX_wOS",
        "outputId": "8ba8382a-d35e-4d2b-b9ac-d4be1d54a5ee"
      },
      "execution_count": null,
      "outputs": [
        {
          "output_type": "stream",
          "name": "stdout",
          "text": [
            "2\n",
            "{'fish', 'dog'}\n"
          ]
        }
      ]
    },
    {
      "cell_type": "markdown",
      "metadata": {
        "id": "Rv2yaaFpALmm"
      },
      "source": [
        "# Tuples"
      ]
    },
    {
      "cell_type": "code",
      "metadata": {
        "colab": {
          "base_uri": "https://localhost:8080/"
        },
        "id": "6q0Frpa2ANAD",
        "outputId": "30c2a2fa-ae79-4f40-e950-f5f7bd6ab062"
      },
      "source": [
        "d = {(x, x + 1): x for x in range(10)}\n",
        "d"
      ],
      "execution_count": null,
      "outputs": [
        {
          "output_type": "execute_result",
          "data": {
            "text/plain": [
              "{(0, 1): 0,\n",
              " (1, 2): 1,\n",
              " (2, 3): 2,\n",
              " (3, 4): 3,\n",
              " (4, 5): 4,\n",
              " (5, 6): 5,\n",
              " (6, 7): 6,\n",
              " (7, 8): 7,\n",
              " (8, 9): 8,\n",
              " (9, 10): 9}"
            ]
          },
          "metadata": {},
          "execution_count": 58
        }
      ]
    },
    {
      "cell_type": "code",
      "metadata": {
        "colab": {
          "base_uri": "https://localhost:8080/"
        },
        "id": "5s184HgHAZuy",
        "outputId": "45263a98-3579-417e-c0ed-16cdd39fd80a"
      },
      "source": [
        "t = (5, 6)        # Create a tuple\n",
        "print(type(t))"
      ],
      "execution_count": null,
      "outputs": [
        {
          "output_type": "stream",
          "name": "stdout",
          "text": [
            "<class 'tuple'>\n"
          ]
        }
      ]
    },
    {
      "cell_type": "code",
      "metadata": {
        "colab": {
          "base_uri": "https://localhost:8080/"
        },
        "id": "xhT1vXWBAc76",
        "outputId": "6e5647e9-7dbc-485f-c8c3-6c0b72884423"
      },
      "source": [
        "print(d[t])       # Prints \"5\"\n",
        "print(d[(1, 2)])"
      ],
      "execution_count": null,
      "outputs": [
        {
          "output_type": "stream",
          "name": "stdout",
          "text": [
            "5\n",
            "1\n"
          ]
        }
      ]
    }
  ]
}